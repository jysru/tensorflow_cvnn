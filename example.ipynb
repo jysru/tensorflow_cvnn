{
 "cells": [
  {
   "cell_type": "code",
   "execution_count": 1,
   "metadata": {},
   "outputs": [],
   "source": [
    "%load_ext autoreload\n",
    "%autoreload 2\n",
    "\n",
    "import numpy as np\n",
    "import matplotlib.pyplot as plt\n",
    "import tensorflow as tf\n",
    "\n",
    "import tfcvnn as cvnn"
   ]
  },
  {
   "cell_type": "code",
   "execution_count": 2,
   "metadata": {},
   "outputs": [
    {
     "name": "stdout",
     "output_type": "stream",
     "text": [
      "Model: \"model\"\n",
      "_________________________________________________________________\n",
      " Layer (type)                Output Shape              Param #   \n",
      "=================================================================\n",
      " input_1 (InputLayer)        [(None, 10)]              0         \n",
      "                                                                 \n",
      " complex_dense_1 (ComplexDen  (None, 50)               1100      \n",
      " se)                                                             \n",
      "                                                                 \n",
      " complex_mod_leaky_re_lu_1 (  (None, 50)               0         \n",
      " ComplexModLeakyReLU)                                            \n",
      "                                                                 \n",
      " complex_dense_2 (ComplexDen  (None, 100)              10200     \n",
      " se)                                                             \n",
      "                                                                 \n",
      " complex_mod_leaky_re_lu_2 (  (None, 100)              0         \n",
      " ComplexModLeakyReLU)                                            \n",
      "                                                                 \n",
      "=================================================================\n",
      "Total params: 11,300\n",
      "Trainable params: 11,300\n",
      "Non-trainable params: 0\n",
      "_________________________________________________________________\n"
     ]
    }
   ],
   "source": [
    "# Example usage: Build a simple model with the custom complex dense layer\n",
    "n = 10\n",
    "m = 100\n",
    "train_complex = False\n",
    "activation = cvnn.activations.ComplexModLeakyReLU\n",
    "layer = cvnn.layers.ComplexDense\n",
    "\n",
    "\n",
    "inputs = tf.keras.Input(shape=(n,), dtype=tf.complex64)\n",
    "x = layer(20)(inputs)\n",
    "x = activation()(x)\n",
    "x = layer(50)(inputs)\n",
    "x = activation()(x)\n",
    "# # x = ComplexDense(100)(x)\n",
    "outputs = layer(m)(x)\n",
    "outputs = activation()(outputs)\n",
    "\n",
    "# outputs = ComplexDense(m)(inputs)\n",
    "if train_complex:\n",
    "    outputs = tf.abs(outputs)\n",
    "\n",
    "model = tf.keras.Model(inputs=inputs, outputs=outputs)\n",
    "model.summary()"
   ]
  },
  {
   "cell_type": "code",
   "execution_count": null,
   "metadata": {},
   "outputs": [],
   "source": [
    "# Example usage\n",
    "input_shape = (None, 64, 64, 3)  # Batch size, height, width, channels\n",
    "inputs = tf.keras.Input(shape=input_shape[1:], dtype=tf.complex64)\n",
    "\n",
    "x = ComplexConv2D(32, kernel_size=(3, 3), padding='same')(inputs)\n",
    "x = tf.keras.layers.Activation('relu')(x)  # Activation can be applied to complex values\n",
    "\n",
    "model = tf.keras.Model(inputs=inputs, outputs=x)\n",
    "model.summary()"
   ]
  },
  {
   "cell_type": "code",
   "execution_count": 3,
   "metadata": {},
   "outputs": [
    {
     "name": "stdout",
     "output_type": "stream",
     "text": [
      "(3000, 100)\n",
      "(3000, 10)\n"
     ]
    }
   ],
   "source": [
    "N = 3000\n",
    "TM = np.random.rand(m, n) * np.exp(1j * 2 * np.pi * np.random.rand(m, n))\n",
    "TM = TM * np.expand_dims(np.exp(-1j * np.angle(TM[0, :])), axis=0)\n",
    "X = np.random.rand(N, n) * np.exp(1j * 2 * np.pi * np.random.rand(N, n))\n",
    "Y = (TM @ X.T).T\n",
    "\n",
    "print(Y.shape)\n",
    "print(X.shape)"
   ]
  },
  {
   "cell_type": "code",
   "execution_count": 4,
   "metadata": {},
   "outputs": [
    {
     "name": "stdout",
     "output_type": "stream",
     "text": [
      "Epoch 1/30\n",
      "75/75 [==============================] - 1s 9ms/step - loss: 0.1170 - val_loss: 3.3083e-04 - lr: 0.0100\n",
      "Epoch 2/30\n",
      "75/75 [==============================] - 1s 8ms/step - loss: 5.3266e-05 - val_loss: 4.0546e-07 - lr: 0.0100\n",
      "Epoch 3/30\n",
      "75/75 [==============================] - 1s 8ms/step - loss: 6.5825e-08 - val_loss: 6.6911e-10 - lr: 0.0100\n",
      "Epoch 4/30\n",
      "75/75 [==============================] - 1s 8ms/step - loss: 1.2535e-10 - val_loss: 2.2622e-12 - lr: 0.0100\n",
      "Epoch 5/30\n",
      "75/75 [==============================] - 1s 8ms/step - loss: 4.6271e-13 - val_loss: 7.1932e-14 - lr: 0.0100\n",
      "Epoch 6/30\n",
      "75/75 [==============================] - 1s 9ms/step - loss: 6.0685e-14 - val_loss: 5.9082e-14 - lr: 0.0100\n",
      "Epoch 7/30\n",
      "75/75 [==============================] - 1s 9ms/step - loss: 6.0104e-14 - val_loss: 6.2475e-14 - lr: 0.0100\n",
      "Epoch 8/30\n",
      "75/75 [==============================] - 1s 9ms/step - loss: 6.3312e-14 - val_loss: 6.5738e-14 - lr: 0.0100\n",
      "Epoch 9/30\n",
      "75/75 [==============================] - 1s 8ms/step - loss: 6.5630e-14 - val_loss: 6.6591e-14 - lr: 0.0100\n",
      "Epoch 10/30\n",
      "75/75 [==============================] - 1s 9ms/step - loss: 6.8888e-14 - val_loss: 7.0072e-14 - lr: 0.0100\n",
      "Epoch 11/30\n",
      "71/75 [===========================>..] - ETA: 0s - loss: 7.1398e-14\n",
      "Epoch 11: ReduceLROnPlateau reducing learning rate to 0.0029999999329447745.\n",
      "75/75 [==============================] - 1s 9ms/step - loss: 7.1589e-14 - val_loss: 7.3043e-14 - lr: 0.0100\n",
      "Epoch 12/30\n",
      "75/75 [==============================] - 1s 10ms/step - loss: 5.4259e-14 - val_loss: 5.2929e-14 - lr: 0.0030\n",
      "Epoch 13/30\n",
      "75/75 [==============================] - 1s 10ms/step - loss: 5.2186e-14 - val_loss: 5.2372e-14 - lr: 0.0030\n",
      "Epoch 14/30\n",
      "75/75 [==============================] - 1s 10ms/step - loss: 5.2194e-14 - val_loss: 5.2242e-14 - lr: 0.0030\n",
      "Epoch 15/30\n",
      "75/75 [==============================] - 1s 11ms/step - loss: 5.2936e-14 - val_loss: 5.2964e-14 - lr: 0.0030\n",
      "Epoch 16/30\n",
      "75/75 [==============================] - 1s 11ms/step - loss: 5.2858e-14 - val_loss: 5.2764e-14 - lr: 0.0030\n",
      "Epoch 17/30\n",
      "75/75 [==============================] - 1s 11ms/step - loss: 5.3918e-14 - val_loss: 5.2069e-14 - lr: 0.0030\n",
      "Epoch 18/30\n",
      "75/75 [==============================] - 1s 11ms/step - loss: 5.3873e-14 - val_loss: 5.3911e-14 - lr: 0.0030\n",
      "Epoch 19/30\n",
      "75/75 [==============================] - 1s 11ms/step - loss: 5.4463e-14 - val_loss: 5.6402e-14 - lr: 0.0030\n",
      "Epoch 20/30\n",
      "75/75 [==============================] - 1s 12ms/step - loss: 5.4933e-14 - val_loss: 5.4922e-14 - lr: 0.0030\n",
      "Epoch 21/30\n",
      "75/75 [==============================] - 1s 11ms/step - loss: 5.5493e-14 - val_loss: 5.5666e-14 - lr: 0.0030\n",
      "Epoch 22/30\n",
      "72/75 [===========================>..] - ETA: 0s - loss: 5.5886e-14\n",
      "Epoch 22: ReduceLROnPlateau reducing learning rate to 0.0009000000078231095.\n",
      "75/75 [==============================] - 1s 11ms/step - loss: 5.5802e-14 - val_loss: 5.5474e-14 - lr: 0.0030\n",
      "Epoch 23/30\n",
      "75/75 [==============================] - 1s 11ms/step - loss: 5.1371e-14 - val_loss: 5.0601e-14 - lr: 9.0000e-04\n",
      "Epoch 24/30\n",
      "75/75 [==============================] - 1s 11ms/step - loss: 5.0502e-14 - val_loss: 5.0467e-14 - lr: 9.0000e-04\n",
      "Epoch 25/30\n",
      "75/75 [==============================] - 1s 11ms/step - loss: 5.0570e-14 - val_loss: 4.9447e-14 - lr: 9.0000e-04\n",
      "Epoch 26/30\n",
      "75/75 [==============================] - 1s 11ms/step - loss: 5.0417e-14 - val_loss: 4.9651e-14 - lr: 9.0000e-04\n",
      "Epoch 27/30\n",
      "75/75 [==============================] - 1s 10ms/step - loss: 5.0281e-14 - val_loss: 5.0656e-14 - lr: 9.0000e-04\n",
      "Epoch 28/30\n",
      "75/75 [==============================] - 1s 11ms/step - loss: 5.0055e-14 - val_loss: 4.8930e-14 - lr: 9.0000e-04\n",
      "Epoch 29/30\n",
      "75/75 [==============================] - 1s 11ms/step - loss: 5.0397e-14 - val_loss: 4.9565e-14 - lr: 9.0000e-04\n",
      "Epoch 30/30\n",
      "75/75 [==============================] - 1s 11ms/step - loss: 5.0885e-14 - val_loss: 4.9595e-14 - lr: 9.0000e-04\n"
     ]
    },
    {
     "data": {
      "text/plain": [
       "<keras.callbacks.History at 0x1ec679f74f0>"
      ]
     },
     "execution_count": 4,
     "metadata": {},
     "output_type": "execute_result"
    }
   ],
   "source": [
    "x_tf = tf.cast(tf.convert_to_tensor(X), tf.complex64)\n",
    "y_tf = tf.cast(tf.convert_to_tensor(Y), tf.complex64)\n",
    "batch_size = 32\n",
    "validation_split = 0.2\n",
    "\n",
    "num_samples = x_tf.shape[0]\n",
    "num_val_samples = int(validation_split * num_samples)\n",
    "\n",
    "# Shuffle and split the data into training and validation sets\n",
    "dataset = tf.data.Dataset.from_tensor_slices((x_tf, tf.abs(y_tf) if train_complex else y_tf))\n",
    "dataset = dataset.shuffle(buffer_size=num_samples)\n",
    "\n",
    "# Create training and validation datasets\n",
    "train_dataset = dataset.skip(num_val_samples).batch(batch_size)\n",
    "val_dataset = dataset.take(num_val_samples).batch(batch_size)\n",
    "\n",
    "# Compile the model with a complex loss function\n",
    "reduce_lr_callback_params = dict(monitor='val_loss', factor=0.3, patience=10, min_lr=1e-6, cooldown=2, min_delta=0.1, verbose=1,)\n",
    "reduce_lr_callback = tf.keras.callbacks.ReduceLROnPlateau(**reduce_lr_callback_params)\n",
    "\n",
    "adam_params = dict(learning_rate=1e-2, beta_1=0.9)\n",
    "optimizer = tf.keras.optimizers.Adam(**adam_params)\n",
    "\n",
    "model.compile(optimizer=optimizer, loss='mse')\n",
    "\n",
    "# Train the model\n",
    "model.fit(train_dataset, validation_data=val_dataset, epochs=30, callbacks=[reduce_lr_callback])\n"
   ]
  },
  {
   "cell_type": "code",
   "execution_count": 5,
   "metadata": {},
   "outputs": [
    {
     "ename": "ValueError",
     "evalue": "operands could not be broadcast together with shapes (10,50) (10,100) ",
     "output_type": "error",
     "traceback": [
      "\u001b[1;31m---------------------------------------------------------------------------\u001b[0m",
      "\u001b[1;31mValueError\u001b[0m                                Traceback (most recent call last)",
      "Cell \u001b[1;32mIn[5], line 17\u001b[0m\n\u001b[0;32m     14\u001b[0m plt\u001b[38;5;241m.\u001b[39maxis(\u001b[38;5;124m'\u001b[39m\u001b[38;5;124mauto\u001b[39m\u001b[38;5;124m'\u001b[39m)\n\u001b[0;32m     16\u001b[0m plt\u001b[38;5;241m.\u001b[39msubplot(\u001b[38;5;241m3\u001b[39m, \u001b[38;5;241m2\u001b[39m, \u001b[38;5;241m5\u001b[39m)\n\u001b[1;32m---> 17\u001b[0m plt\u001b[38;5;241m.\u001b[39mimshow(\u001b[43mnp\u001b[49m\u001b[38;5;241;43m.\u001b[39;49m\u001b[43mabs\u001b[49m\u001b[43m(\u001b[49m\u001b[43mTMR\u001b[49m\u001b[43m)\u001b[49m\u001b[43m \u001b[49m\u001b[38;5;241;43m-\u001b[39;49m\u001b[43m \u001b[49m\u001b[43mnp\u001b[49m\u001b[38;5;241;43m.\u001b[39;49m\u001b[43mabs\u001b[49m\u001b[43m(\u001b[49m\u001b[43mTM\u001b[49m\u001b[38;5;241;43m.\u001b[39;49m\u001b[43mT\u001b[49m\u001b[43m)\u001b[49m)\n\u001b[0;32m     18\u001b[0m plt\u001b[38;5;241m.\u001b[39mcolorbar()\n\u001b[0;32m     19\u001b[0m plt\u001b[38;5;241m.\u001b[39maxis(\u001b[38;5;124m'\u001b[39m\u001b[38;5;124mauto\u001b[39m\u001b[38;5;124m'\u001b[39m)\n",
      "\u001b[1;31mValueError\u001b[0m: operands could not be broadcast together with shapes (10,50) (10,100) "
     ]
    },
    {
     "data": {
      "image/png": "[encoded data removed]",
      "text/plain": [
       "<Figure size 1500x600 with 5 Axes>"
      ]
     },
     "metadata": {},
     "output_type": "display_data"
    }
   ],
   "source": [
    "TMR = model.weights[0].numpy() + 1j * model.weights[1].numpy()\n",
    "TMR = TMR * np.expand_dims(np.exp(-1j * np.angle(TMR[0, :])), axis=-0)\n",
    "\n",
    "plt.figure(figsize=(15, 6))\n",
    "\n",
    "plt.subplot(3, 2, 1)\n",
    "plt.imshow(np.abs(TM.T))\n",
    "plt.colorbar()\n",
    "plt.axis('auto')\n",
    "\n",
    "plt.subplot(3, 2, 3)\n",
    "plt.imshow(np.abs(TMR))\n",
    "plt.colorbar()\n",
    "plt.axis('auto')\n",
    "\n",
    "plt.subplot(3, 2, 5)\n",
    "plt.imshow(np.abs(TMR) - np.abs(TM.T))\n",
    "plt.colorbar()\n",
    "plt.axis('auto')\n",
    "\n",
    "plt.subplot(3, 2, 2)\n",
    "plt.imshow(np.angle(TM.T))\n",
    "plt.colorbar()\n",
    "plt.axis('auto')\n",
    "\n",
    "plt.subplot(3, 2, 4)\n",
    "plt.imshow(np.angle(TMR))\n",
    "plt.colorbar()\n",
    "plt.axis('auto')\n",
    "\n",
    "plt.subplot(3, 2, 6)\n",
    "plt.imshow(np.angle(np.exp(1j * (np.angle(TMR) - np.angle(TM.T)))))\n",
    "plt.colorbar()\n",
    "plt.axis('auto')"
   ]
  }
 ],
 "metadata": {
  "kernelspec": {
   "display_name": "ml",
   "language": "python",
   "name": "python3"
  },
  "language_info": {
   "codemirror_mode": {
    "name": "ipython",
    "version": 3
   },
   "file_extension": ".py",
   "mimetype": "text/x-python",
   "name": "python",
   "nbconvert_exporter": "python",
   "pygments_lexer": "ipython3",
   "version": "3.9.13"
  }
 },
 "nbformat": 4,
 "nbformat_minor": 2
}
