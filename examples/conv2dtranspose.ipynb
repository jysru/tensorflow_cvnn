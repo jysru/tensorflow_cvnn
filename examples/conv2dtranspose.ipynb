{
 "cells": [
  {
   "cell_type": "code",
   "execution_count": 7,
   "metadata": {},
   "outputs": [
    {
     "name": "stdout",
     "output_type": "stream",
     "text": [
      "The autoreload extension is already loaded. To reload it, use:\n",
      "  %reload_ext autoreload\n"
     ]
    }
   ],
   "source": [
    "%load_ext autoreload\n",
    "%autoreload 2\n",
    "\n",
    "import numpy as np\n",
    "import tensorflow as tf\n",
    "import tfcvnn as cvnn"
   ]
  },
  {
   "cell_type": "code",
   "execution_count": 8,
   "metadata": {},
   "outputs": [
    {
     "ename": "TypeError",
     "evalue": "Exception encountered when calling layer \"complex_conv2d_transpose_3\" (type ComplexConv2DTranspose).\n\nin user code:\n\n    File \"c:\\users\\saucourt\\coding\\tensorflow_cvnn\\tfcvnn\\layers.py\", line 148, in call  *\n        real_conv = tf.nn.conv2d_transpose(\n\n    TypeError: Expected int32 passed to parameter 'input_sizes' of op 'Conv2DBackpropInput', got [None, 32, 32, 8] of type 'list' instead. Error: Expected int32, but got None of type 'NoneType'.\n\n\nCall arguments received by layer \"complex_conv2d_transpose_3\" (type ComplexConv2DTranspose):\n  • inputs=tf.Tensor(shape=(None, 32, 32, 16), dtype=complex64)",
     "output_type": "error",
     "traceback": [
      "\u001b[1;31m---------------------------------------------------------------------------\u001b[0m",
      "\u001b[1;31mTypeError\u001b[0m                                 Traceback (most recent call last)",
      "Cell \u001b[1;32mIn[8], line 5\u001b[0m\n\u001b[0;32m      2\u001b[0m input_shape \u001b[38;5;241m=\u001b[39m (\u001b[38;5;28;01mNone\u001b[39;00m, \u001b[38;5;241m32\u001b[39m, \u001b[38;5;241m32\u001b[39m, \u001b[38;5;241m16\u001b[39m)  \u001b[38;5;66;03m# Batch size, height, width, channels\u001b[39;00m\n\u001b[0;32m      3\u001b[0m inputs \u001b[38;5;241m=\u001b[39m tf\u001b[38;5;241m.\u001b[39mkeras\u001b[38;5;241m.\u001b[39mInput(shape\u001b[38;5;241m=\u001b[39minput_shape[\u001b[38;5;241m1\u001b[39m:], dtype\u001b[38;5;241m=\u001b[39mtf\u001b[38;5;241m.\u001b[39mcomplex64)\n\u001b[1;32m----> 5\u001b[0m x \u001b[38;5;241m=\u001b[39m \u001b[43mcvnn\u001b[49m\u001b[38;5;241;43m.\u001b[39;49m\u001b[43mlayers\u001b[49m\u001b[38;5;241;43m.\u001b[39;49m\u001b[43mComplexConv2DTranspose\u001b[49m\u001b[43m(\u001b[49m\u001b[38;5;241;43m8\u001b[39;49m\u001b[43m,\u001b[49m\u001b[43m \u001b[49m\u001b[43mkernel_size\u001b[49m\u001b[38;5;241;43m=\u001b[39;49m\u001b[43m(\u001b[49m\u001b[38;5;241;43m3\u001b[39;49m\u001b[43m,\u001b[49m\u001b[43m \u001b[49m\u001b[38;5;241;43m3\u001b[39;49m\u001b[43m)\u001b[49m\u001b[43m,\u001b[49m\u001b[43m \u001b[49m\u001b[43mpadding\u001b[49m\u001b[38;5;241;43m=\u001b[39;49m\u001b[38;5;124;43m'\u001b[39;49m\u001b[38;5;124;43msame\u001b[39;49m\u001b[38;5;124;43m'\u001b[39;49m\u001b[43m)\u001b[49m\u001b[43m(\u001b[49m\u001b[43minputs\u001b[49m\u001b[43m)\u001b[49m\n\u001b[0;32m      6\u001b[0m x \u001b[38;5;241m=\u001b[39m cvnn\u001b[38;5;241m.\u001b[39mactivations\u001b[38;5;241m.\u001b[39mComplexModLeakyReLU()(x)  \u001b[38;5;66;03m# Activation can be applied to complex values\u001b[39;00m\n\u001b[0;32m      8\u001b[0m model \u001b[38;5;241m=\u001b[39m tf\u001b[38;5;241m.\u001b[39mkeras\u001b[38;5;241m.\u001b[39mModel(inputs\u001b[38;5;241m=\u001b[39minputs, outputs\u001b[38;5;241m=\u001b[39mx)\n",
      "File \u001b[1;32mc:\\Users\\saucourt\\venvs\\ml\\lib\\site-packages\\keras\\utils\\traceback_utils.py:70\u001b[0m, in \u001b[0;36mfilter_traceback.<locals>.error_handler\u001b[1;34m(*args, **kwargs)\u001b[0m\n\u001b[0;32m     67\u001b[0m     filtered_tb \u001b[38;5;241m=\u001b[39m _process_traceback_frames(e\u001b[38;5;241m.\u001b[39m__traceback__)\n\u001b[0;32m     68\u001b[0m     \u001b[38;5;66;03m# To get the full stack trace, call:\u001b[39;00m\n\u001b[0;32m     69\u001b[0m     \u001b[38;5;66;03m# `tf.debugging.disable_traceback_filtering()`\u001b[39;00m\n\u001b[1;32m---> 70\u001b[0m     \u001b[38;5;28;01mraise\u001b[39;00m e\u001b[38;5;241m.\u001b[39mwith_traceback(filtered_tb) \u001b[38;5;28;01mfrom\u001b[39;00m \u001b[38;5;28;01mNone\u001b[39;00m\n\u001b[0;32m     71\u001b[0m \u001b[38;5;28;01mfinally\u001b[39;00m:\n\u001b[0;32m     72\u001b[0m     \u001b[38;5;28;01mdel\u001b[39;00m filtered_tb\n",
      "File \u001b[1;32m~\\AppData\\Local\\Temp\\__autograph_generated_file1xk301am.py:13\u001b[0m, in \u001b[0;36mouter_factory.<locals>.inner_factory.<locals>.tf__call\u001b[1;34m(self, inputs)\u001b[0m\n\u001b[0;32m     11\u001b[0m imag_input \u001b[38;5;241m=\u001b[39m ag__\u001b[38;5;241m.\u001b[39mconverted_call(ag__\u001b[38;5;241m.\u001b[39mld(tf)\u001b[38;5;241m.\u001b[39mmath\u001b[38;5;241m.\u001b[39mimag, (ag__\u001b[38;5;241m.\u001b[39mld(inputs),), \u001b[38;5;28;01mNone\u001b[39;00m, fscope)\n\u001b[0;32m     12\u001b[0m output_shape \u001b[38;5;241m=\u001b[39m ag__\u001b[38;5;241m.\u001b[39mconverted_call(ag__\u001b[38;5;241m.\u001b[39mld(\u001b[38;5;28mself\u001b[39m)\u001b[38;5;241m.\u001b[39m_compute_output_shape, (ag__\u001b[38;5;241m.\u001b[39mld(inputs)\u001b[38;5;241m.\u001b[39mshape,), \u001b[38;5;28;01mNone\u001b[39;00m, fscope)\n\u001b[1;32m---> 13\u001b[0m real_conv \u001b[38;5;241m=\u001b[39m ag__\u001b[38;5;241m.\u001b[39mconverted_call(ag__\u001b[38;5;241m.\u001b[39mld(tf)\u001b[38;5;241m.\u001b[39mnn\u001b[38;5;241m.\u001b[39mconv2d_transpose, (ag__\u001b[38;5;241m.\u001b[39mld(real_input), ag__\u001b[38;5;241m.\u001b[39mld(\u001b[38;5;28mself\u001b[39m)\u001b[38;5;241m.\u001b[39mreal_kernel), \u001b[38;5;28mdict\u001b[39m(output_shape\u001b[38;5;241m=\u001b[39mag__\u001b[38;5;241m.\u001b[39mld(output_shape), strides\u001b[38;5;241m=\u001b[39mag__\u001b[38;5;241m.\u001b[39mld(\u001b[38;5;28mself\u001b[39m)\u001b[38;5;241m.\u001b[39mstrides, padding\u001b[38;5;241m=\u001b[39mag__\u001b[38;5;241m.\u001b[39mconverted_call(ag__\u001b[38;5;241m.\u001b[39mld(\u001b[38;5;28mself\u001b[39m)\u001b[38;5;241m.\u001b[39mpadding\u001b[38;5;241m.\u001b[39mupper, (), \u001b[38;5;28;01mNone\u001b[39;00m, fscope)), fscope)\n\u001b[0;32m     14\u001b[0m imag_conv \u001b[38;5;241m=\u001b[39m ag__\u001b[38;5;241m.\u001b[39mconverted_call(ag__\u001b[38;5;241m.\u001b[39mld(tf)\u001b[38;5;241m.\u001b[39mnn\u001b[38;5;241m.\u001b[39mconv2d_transpose, (ag__\u001b[38;5;241m.\u001b[39mld(imag_input), ag__\u001b[38;5;241m.\u001b[39mld(\u001b[38;5;28mself\u001b[39m)\u001b[38;5;241m.\u001b[39mimag_kernel), \u001b[38;5;28mdict\u001b[39m(output_shape\u001b[38;5;241m=\u001b[39mag__\u001b[38;5;241m.\u001b[39mld(output_shape), strides\u001b[38;5;241m=\u001b[39mag__\u001b[38;5;241m.\u001b[39mld(\u001b[38;5;28mself\u001b[39m)\u001b[38;5;241m.\u001b[39mstrides, padding\u001b[38;5;241m=\u001b[39mag__\u001b[38;5;241m.\u001b[39mconverted_call(ag__\u001b[38;5;241m.\u001b[39mld(\u001b[38;5;28mself\u001b[39m)\u001b[38;5;241m.\u001b[39mpadding\u001b[38;5;241m.\u001b[39mupper, (), \u001b[38;5;28;01mNone\u001b[39;00m, fscope)), fscope)\n\u001b[0;32m     15\u001b[0m real_conv \u001b[38;5;241m=\u001b[39m ag__\u001b[38;5;241m.\u001b[39mld(real_conv)\n",
      "\u001b[1;31mTypeError\u001b[0m: Exception encountered when calling layer \"complex_conv2d_transpose_3\" (type ComplexConv2DTranspose).\n\nin user code:\n\n    File \"c:\\users\\saucourt\\coding\\tensorflow_cvnn\\tfcvnn\\layers.py\", line 148, in call  *\n        real_conv = tf.nn.conv2d_transpose(\n\n    TypeError: Expected int32 passed to parameter 'input_sizes' of op 'Conv2DBackpropInput', got [None, 32, 32, 8] of type 'list' instead. Error: Expected int32, but got None of type 'NoneType'.\n\n\nCall arguments received by layer \"complex_conv2d_transpose_3\" (type ComplexConv2DTranspose):\n  • inputs=tf.Tensor(shape=(None, 32, 32, 16), dtype=complex64)"
     ]
    }
   ],
   "source": [
    "# Example usage\n",
    "input_shape = (None, 32, 32, 16)  # Batch size, height, width, channels\n",
    "inputs = tf.keras.Input(shape=input_shape[1:], dtype=tf.complex64)\n",
    "\n",
    "x = cvnn.layers.ComplexConv2DTranspose(8, kernel_size=(3, 3), padding='same')(inputs)\n",
    "x = cvnn.activations.ComplexModLeakyReLU()(x)  # Activation can be applied to complex values\n",
    "\n",
    "model = tf.keras.Model(inputs=inputs, outputs=x)\n",
    "model.summary()"
   ]
  },
  {
   "cell_type": "code",
   "execution_count": 7,
   "metadata": {},
   "outputs": [
    {
     "name": "stdout",
     "output_type": "stream",
     "text": [
      "(1, 64, 64, 32)\n"
     ]
    }
   ],
   "source": [
    "size = (1, 64, 64, 3)\n",
    "\n",
    "tensor = tf.convert_to_tensor(np.random.rand(*size) * np.exp(1j * 2 * np.pi * np.random.rand(*size)))\n",
    "output = model(tensor)\n",
    "\n",
    "print(output.shape)"
   ]
  }
 ],
 "metadata": {
  "kernelspec": {
   "display_name": "ml",
   "language": "python",
   "name": "python3"
  },
  "language_info": {
   "codemirror_mode": {
    "name": "ipython",
    "version": 3
   },
   "file_extension": ".py",
   "mimetype": "text/x-python",
   "name": "python",
   "nbconvert_exporter": "python",
   "pygments_lexer": "ipython3",
   "version": "3.9.13"
  }
 },
 "nbformat": 4,
 "nbformat_minor": 2
}
