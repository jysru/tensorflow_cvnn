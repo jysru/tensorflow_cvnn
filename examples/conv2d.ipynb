{
 "cells": [
  {
   "cell_type": "code",
   "execution_count": 1,
   "metadata": {},
   "outputs": [],
   "source": [
    "%load_ext autoreload\n",
    "%autoreload 2\n",
    "\n",
    "import numpy as np\n",
    "import tensorflow as tf\n",
    "import tfcvnn as cvnn"
   ]
  },
  {
   "cell_type": "code",
   "execution_count": 2,
   "metadata": {},
   "outputs": [
    {
     "name": "stdout",
     "output_type": "stream",
     "text": [
      "Model: \"model\"\n",
      "_________________________________________________________________\n",
      " Layer (type)                Output Shape              Param #   \n",
      "=================================================================\n",
      " input_1 (InputLayer)        [(None, 64, 64, 3)]       0         \n",
      "                                                                 \n",
      " complex_conv2d (ComplexConv  (None, 64, 64, 32)       1792      \n",
      " 2D)                                                             \n",
      "                                                                 \n",
      " complex_mod_leaky_re_lu (Co  (None, 64, 64, 32)       0         \n",
      " mplexModLeakyReLU)                                              \n",
      "                                                                 \n",
      "=================================================================\n",
      "Total params: 1,792\n",
      "Trainable params: 1,792\n",
      "Non-trainable params: 0\n",
      "_________________________________________________________________\n"
     ]
    }
   ],
   "source": [
    "# Example usage\n",
    "input_shape = (None, 64, 64, 3)  # Batch size, height, width, channels\n",
    "inputs = tf.keras.Input(shape=input_shape[1:], dtype=tf.complex64)\n",
    "\n",
    "x = cvnn.layers.ComplexConv2D(32, kernel_size=(3, 3), padding='same')(inputs)\n",
    "x = cvnn.activations.ComplexModLeakyReLU()(x)  # Activation can be applied to complex values\n",
    "\n",
    "model = tf.keras.Model(inputs=inputs, outputs=x)\n",
    "model.summary()"
   ]
  },
  {
   "cell_type": "code",
   "execution_count": 3,
   "metadata": {},
   "outputs": [
    {
     "name": "stdout",
     "output_type": "stream",
     "text": [
      "(1, 64, 64, 32)\n"
     ]
    }
   ],
   "source": [
    "size = (1, 64, 64, 3)\n",
    "\n",
    "tensor = tf.convert_to_tensor(np.random.rand(*size) * np.exp(1j * 2 * np.pi * np.random.rand(*size)))\n",
    "output = model(tensor)\n",
    "\n",
    "print(output.shape)"
   ]
  }
 ],
 "metadata": {
  "kernelspec": {
   "display_name": "ml",
   "language": "python",
   "name": "python3"
  },
  "language_info": {
   "codemirror_mode": {
    "name": "ipython",
    "version": 3
   },
   "file_extension": ".py",
   "mimetype": "text/x-python",
   "name": "python",
   "nbconvert_exporter": "python",
   "pygments_lexer": "ipython3",
   "version": "3.9.13"
  }
 },
 "nbformat": 4,
 "nbformat_minor": 2
}
